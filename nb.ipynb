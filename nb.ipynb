{
 "cells": [
  {
   "cell_type": "code",
   "execution_count": null,
   "id": "9a01749a-11df-4e3d-88a9-289a187a4d36",
   "metadata": {
    "tags": []
   },
   "outputs": [],
   "source": [
    "import numpy as np\n",
    "import pandas as pd\n",
    "\n",
    "import os\n",
    "from dotenv import load_dotenv, find_dotenv\n",
    "load_dotenv(find_dotenv(), override=True)"
   ]
  },
  {
   "cell_type": "code",
   "execution_count": null,
   "id": "ff2c0ceb-cafc-4a8d-80c2-0b18da6b2f4c",
   "metadata": {
    "tags": []
   },
   "outputs": [],
   "source": [
    "history_df = pd.read_csv(\"data/user_history.csv\")\n",
    "movie_df = pd.read_csv(\"data/movies.csv\")"
   ]
  },
  {
   "cell_type": "code",
   "execution_count": null,
   "id": "40b5ae47-2916-433e-84d4-c63a1fc33ee0",
   "metadata": {
    "tags": []
   },
   "outputs": [],
   "source": [
    "movie_df.head(1)"
   ]
  },
  {
   "cell_type": "code",
   "execution_count": null,
   "id": "2be8f3b9-b1c3-43c4-8d26-7e2e785bf7b2",
   "metadata": {
    "tags": []
   },
   "outputs": [],
   "source": [
    "movie_df.shape"
   ]
  },
  {
   "cell_type": "code",
   "execution_count": null,
   "id": "46305175-8992-4953-956f-e1a1584f5d18",
   "metadata": {},
   "outputs": [],
   "source": []
  },
  {
   "cell_type": "code",
   "execution_count": null,
   "id": "8541ef36-53fb-42e1-92f0-ae85dfef5819",
   "metadata": {},
   "outputs": [],
   "source": []
  },
  {
   "cell_type": "code",
   "execution_count": null,
   "id": "985533f1-5a3c-4315-8558-c70510238215",
   "metadata": {},
   "outputs": [],
   "source": []
  },
  {
   "cell_type": "code",
   "execution_count": null,
   "id": "7d94c6d8-e419-4c60-ac7b-570d461ce113",
   "metadata": {},
   "outputs": [],
   "source": []
  },
  {
   "cell_type": "code",
   "execution_count": null,
   "id": "77e856a0-fc1f-47e0-8d53-e3477cf17210",
   "metadata": {},
   "outputs": [],
   "source": [
    "#'baai/bge-small-en-v1.5'\n",
    "\n",
    "from sentence_transformers import SentenceTransformer\n",
    "#from sentence_transformers.util import cos_sim\n",
    "\n",
    "model = SentenceTransformer('baai/bge-large-en-v1.5')\n",
    "#embeddings = model.encode(sentences)\n",
    "#len(model.encode(output_summary))"
   ]
  },
  {
   "cell_type": "code",
   "execution_count": null,
   "id": "1bcca8ee-3e18-42fb-a962-ae71bae4ed1a",
   "metadata": {
    "scrolled": true
   },
   "outputs": [],
   "source": [
    "model.encode(movie_df.Plot.iloc[0])"
   ]
  },
  {
   "cell_type": "code",
   "execution_count": null,
   "id": "0d4ba4ae-8955-476c-a728-c9eb1a70303a",
   "metadata": {},
   "outputs": [],
   "source": []
  },
  {
   "cell_type": "code",
   "execution_count": null,
   "id": "2bda0083-5479-461e-84ae-c943160e91be",
   "metadata": {},
   "outputs": [],
   "source": []
  },
  {
   "cell_type": "code",
   "execution_count": null,
   "id": "677841b4-054d-4f7e-84a8-ee09d1eac1ef",
   "metadata": {},
   "outputs": [],
   "source": [
    "import dask.dataframe as dd\n",
    "\n",
    "# Convert the Pandas DataFrame to a Dask DataFrame\n",
    "ddf = dd.from_pandas(movie_df, npartitions=10)  # 'npartitions' defines how many partitions to split the data into.\n",
    "\n",
    "# Define a function to apply row-wise\n",
    "def my_function(row):\n",
    "    model.encode(row.Plot)\n",
    "\n",
    "# Use map_partitions with Pandas' apply to apply the function row-wise\n",
    "ddf.map_partitions(lambda df: df.apply(my_function, axis=1)).compute()\n",
    "\n",
    "print(result)"
   ]
  },
  {
   "cell_type": "code",
   "execution_count": null,
   "id": "f8ea8860-756e-4d11-8fa6-e2d569615509",
   "metadata": {},
   "outputs": [],
   "source": []
  },
  {
   "cell_type": "code",
   "execution_count": null,
   "id": "93834b50-9f80-4923-84f0-cca288511a8c",
   "metadata": {},
   "outputs": [],
   "source": []
  },
  {
   "cell_type": "code",
   "execution_count": null,
   "id": "ca9fb7fc-4f16-4f61-bf64-c74166b26e57",
   "metadata": {},
   "outputs": [],
   "source": [
    "movie_df.Plot.apply(len).median()"
   ]
  },
  {
   "cell_type": "code",
   "execution_count": null,
   "id": "d8e0a23c-2243-4ee6-956a-1fe320973b0f",
   "metadata": {},
   "outputs": [],
   "source": []
  },
  {
   "cell_type": "code",
   "execution_count": null,
   "id": "692bc227-5f48-4ab2-93fc-ffd4d260748b",
   "metadata": {},
   "outputs": [],
   "source": []
  },
  {
   "cell_type": "code",
   "execution_count": null,
   "id": "55fdc977-b04c-4a1f-908a-8a12b897396c",
   "metadata": {
    "tags": []
   },
   "outputs": [],
   "source": [
    "from langchain.chat_models import ChatOpenAI\n",
    "from langchain import PromptTemplate\n",
    "from langchain.chains.summarize import load_summarize_chain\n",
    "from langchain.text_splitter import RecursiveCharacterTextSplitter\n",
    "\n",
    "llm = ChatOpenAI(temperature=0, model=\"gpt-3.5-turbo\", max_tokens=512)\n",
    "\n",
    "summary_chain = load_summarize_chain(\n",
    "    llm=llm,\n",
    "    chain_type=\"map_reduce\",\n",
    "    verbose=True\n",
    "    ma\n",
    ")\n",
    "\n",
    "output = summary_chain(chunks)"
   ]
  },
  {
   "cell_type": "code",
   "execution_count": null,
   "id": "c27addca-55ac-4fd2-ab19-55838ca0a360",
   "metadata": {},
   "outputs": [],
   "source": []
  },
  {
   "cell_type": "code",
   "execution_count": null,
   "id": "4ca94522-e3f9-4bb1-aa89-9839ac960574",
   "metadata": {
    "tags": []
   },
   "outputs": [],
   "source": [
    "\n",
    "movie_df[movie_df.Plot.apply(len)>5000].iloc[0].Plot"
   ]
  },
  {
   "cell_type": "code",
   "execution_count": null,
   "id": "9f17ae7b-bf81-479c-b1b8-9a942e287a31",
   "metadata": {},
   "outputs": [],
   "source": []
  },
  {
   "cell_type": "code",
   "execution_count": null,
   "id": "a265e2e5-9119-43f5-94ff-b3d57aa2837e",
   "metadata": {},
   "outputs": [],
   "source": []
  },
  {
   "cell_type": "code",
   "execution_count": null,
   "id": "3fc63b91-511c-4f8e-80d5-ec8d9a862efc",
   "metadata": {},
   "outputs": [],
   "source": []
  },
  {
   "cell_type": "code",
   "execution_count": null,
   "id": "c7f444dd-f95b-48e4-b08b-0da301cb786a",
   "metadata": {},
   "outputs": [],
   "source": []
  }
 ],
 "metadata": {
  "kernelspec": {
   "display_name": "movie-recommender",
   "language": "python",
   "name": "movie-recommender"
  },
  "language_info": {
   "codemirror_mode": {
    "name": "ipython",
    "version": 3
   },
   "file_extension": ".py",
   "mimetype": "text/x-python",
   "name": "python",
   "nbconvert_exporter": "python",
   "pygments_lexer": "ipython3",
   "version": "3.9.18"
  }
 },
 "nbformat": 4,
 "nbformat_minor": 5
}
