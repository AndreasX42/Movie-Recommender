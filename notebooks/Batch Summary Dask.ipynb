{
 "cells": [
  {
   "cell_type": "code",
   "execution_count": 3,
   "id": "55fdc977-b04c-4a1f-908a-8a12b897396c",
   "metadata": {
    "tags": []
   },
   "outputs": [],
   "source": [
    "import numpy as np\n",
    "import pandas as pd\n",
    "\n",
    "from langchain.chat_models import ChatOpenAI\n",
    "from langchain import PromptTemplate\n",
    "from langchain.chains.summarize import load_summarize_chain\n",
    "from langchain.text_splitter import RecursiveCharacterTextSplitter\n",
    "\n",
    "import dotenv\n",
    "dotenv.load_dotenv(dotenv.find_dotenv(), override=True)\n",
    "\n",
    "llm = ChatOpenAI(temperature=0.5, model=\"gpt-3.5-turbo\")"
   ]
  },
  {
   "cell_type": "code",
   "execution_count": 4,
   "id": "c27addca-55ac-4fd2-ab19-55838ca0a360",
   "metadata": {},
   "outputs": [],
   "source": [
    "map_prompt = \"\"\"\n",
    "Write a short and concise summary of the following:\n",
    "Text: '{text}'\n",
    "CONCISE SUMMARY:\n",
    "\"\"\"\n",
    "\n",
    "map_prompt_template = PromptTemplate(\n",
    "    input_variables=[\"text\"],\n",
    "    template=map_prompt\n",
    ")\n",
    "\n",
    "combine_prompt = \"\"\"\n",
    "Write a very short and condensed movie summary that describes in a gripping manner\n",
    "the movie plot to get the reader to watch the movie. At the end of the summary\n",
    "mention movie genre and the appropriate age group in the format 'Genre: GENRE, Age group: AGE GROUP'.\n",
    "Text: '{text}'\n",
    "\"\"\"\n",
    "\n",
    "combine_prompt_template = PromptTemplate(\n",
    "    input_variables=[\"text\"],\n",
    "    template=combine_prompt\n",
    ")\n",
    "\n",
    "summary_chain_multi = load_summarize_chain(\n",
    "    llm=llm,\n",
    "    chain_type=\"map_reduce\",\n",
    "    map_prompt=map_prompt_template,\n",
    "    combine_prompt=combine_prompt_template,\n",
    "    verbose=False\n",
    ")\n",
    "\n",
    "summary_chain_single = load_summarize_chain(llm, chain_type=\"stuff\", prompt=combine_prompt_template, verbose=False)\n",
    "\n",
    "text_splitter = RecursiveCharacterTextSplitter(chunk_size=3496, length_function=lambda x: llm.get_num_tokens(x))\n"
   ]
  },
  {
   "cell_type": "code",
   "execution_count": 38,
   "id": "9d54355a-fd97-4714-b874-4fcc25f3292e",
   "metadata": {
    "scrolled": true,
    "tags": []
   },
   "outputs": [],
   "source": [
    "import dask.dataframe as dd\n",
    "import time\n",
    "\n",
    "movie_df = pd.read_parquet(\"movies.parquet\")\n",
    "#movie_df = movie_df.iloc[4000:]\n",
    "movie_df[\"summary\"] = \"\"\n",
    "\n",
    "def get_summary(df):\n",
    "    for i, row in df.iterrows():\n",
    "        chunks = text_splitter.create_documents([row[\"summary\"]])\n",
    "        if len(chunks) == 1:\n",
    "            output = summary_chain_single.run(chunks)\n",
    "        else:\n",
    "            output = summary_chain_multi(chunks)\n",
    "        try:\n",
    "            if isinstance(output,dict):\n",
    "                output = output[\"output_text\"]\n",
    "            df.at[i, \"summary\"] = output\n",
    "        except Exception:\n",
    "            print(f\"Something went wrong with index {i}\")\n",
    "        \n",
    "    df.to_csv(f\"./mySummaries/sum_{time.strftime('%Y%m%d-%H%M%S')}.csv\")\n",
    "        \n",
    "    return df\n",
    "\n",
    "def preprocess(df):\n",
    "    merge_cols = [\"Plot\", \"Title\", \"Release Year\", \"Director\", \"Cast\", \"genres\"]\n",
    "    for i, row in df.iterrows():\n",
    "        merged_movie_info = \"\\n\".join([f\"{col}: {row[col]}\" for col in merge_cols])\n",
    "        df.at[i, \"summary\"] = merged_movie_info\n",
    "    return df\n",
    "    \n",
    "ddf = dd.from_pandas(movie_df, npartitions=100)\n",
    "ddf = ddf.map_partitions(lambda partition: preprocess(partition), meta=ddf._meta).compute()\n",
    "\n",
    "ddf = dd.from_pandas(ddf, npartitions=5)\n",
    "\n",
    "ddf = ddf.map_partitions(lambda partition: get_summary(partition), meta=ddf._meta)\n",
    "ddf = ddf.compute()"
   ]
  }
 ],
 "metadata": {
  "environment": {
   "kernel": "conda-root-py",
   "name": "workbench-notebooks.m111",
   "type": "gcloud",
   "uri": "gcr.io/deeplearning-platform-release/workbench-notebooks:m111"
  },
  "kernelspec": {
   "display_name": "Python 3 (ipykernel)",
   "language": "python",
   "name": "python3"
  },
  "language_info": {
   "codemirror_mode": {
    "name": "ipython",
    "version": 3
   },
   "file_extension": ".py",
   "mimetype": "text/x-python",
   "name": "python",
   "nbconvert_exporter": "python",
   "pygments_lexer": "ipython3",
   "version": "3.9.18"
  }
 },
 "nbformat": 4,
 "nbformat_minor": 5
}
