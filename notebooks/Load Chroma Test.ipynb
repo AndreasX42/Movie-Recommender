{
 "cells": [
  {
   "cell_type": "code",
   "execution_count": null,
   "id": "eb9fe476-b8be-4e3d-97b8-48ecdbca1030",
   "metadata": {},
   "outputs": [],
   "source": [
    "import numpy as np\n",
    "import pandas as pd\n",
    "\n",
    "import chromadb\n",
    "from langchain.embeddings.sentence_transformer import SentenceTransformerEmbeddings\n",
    "\n",
    "import yaml\n",
    "CONFIG = yaml.safe_load(open(\"../config.yml\"))\n",
    "model = SentenceTransformerEmbeddings(model_name=CONFIG[\"EmbeddingModel\"])\n",
    "\n",
    "client = chromadb.PersistentClient(path=f\"../{CONFIG['ChromaDBPath']}\")\n",
    "movie_collection = client.get_collection(name=\"movies\", embedding_function=model)"
   ]
  },
  {
   "cell_type": "code",
   "execution_count": null,
   "id": "b3e7c421-802f-4927-9ea7-cfb15942f102",
   "metadata": {},
   "outputs": [],
   "source": [
    "from langchain.vectorstores import Chroma\n",
    "\n",
    "langchain_chroma = Chroma(\n",
    "    client=client,\n",
    "    collection_name=\"movies\",\n",
    "    embedding_function=model,\n",
    ")"
   ]
  },
  {
   "cell_type": "code",
   "execution_count": null,
   "id": "5e71ef5f-dd69-42a0-9ca6-b980e0ca833d",
   "metadata": {},
   "outputs": [],
   "source": [
    "user_embedding = user_collection.get(ids=\"7\", include=[\"embeddings\"])[\"embeddings\"]\n",
    "\n",
    "langchain_chroma.similarity_search_by_vector_with_relevance_scores(user_embedding, k=3)"
   ]
  },
  {
   "cell_type": "code",
   "execution_count": null,
   "id": "bbfb907f-ee28-4c8b-a9c6-208c9e48bd69",
   "metadata": {},
   "outputs": [],
   "source": [
    "movies = pd.read_csv(\"../data/movies.csv\")\n",
    "users = pd.read_csv(\"../data/user_history.csv\")"
   ]
  },
  {
   "cell_type": "code",
   "execution_count": null,
   "id": "5b5f0fe0-82b8-435c-b880-17917bdee3cd",
   "metadata": {},
   "outputs": [],
   "source": [
    "user_collection.get(ids=\"7\")[\"metadatas\"][0][\"movieIds\"]"
   ]
  },
  {
   "cell_type": "code",
   "execution_count": null,
   "id": "27acde0f-3328-43cb-a755-739358a558d0",
   "metadata": {},
   "outputs": [],
   "source": [
    "movies[movies.movieId.apply(int).apply(str).isin(['5991'])]"
   ]
  },
  {
   "cell_type": "code",
   "execution_count": null,
   "id": "08ac9c35-1be6-4a1e-82c3-4b53fd9c69b1",
   "metadata": {},
   "outputs": [],
   "source": []
  },
  {
   "cell_type": "code",
   "execution_count": null,
   "id": "c7f444dd-f95b-48e4-b08b-0da301cb786a",
   "metadata": {},
   "outputs": [],
   "source": []
  }
 ],
 "metadata": {
  "kernelspec": {
   "display_name": "movie-recommender",
   "language": "python",
   "name": "movie-recommender"
  },
  "language_info": {
   "codemirror_mode": {
    "name": "ipython",
    "version": 3
   },
   "file_extension": ".py",
   "mimetype": "text/x-python",
   "name": "python",
   "nbconvert_exporter": "python",
   "pygments_lexer": "ipython3",
   "version": "3.9.18"
  }
 },
 "nbformat": 4,
 "nbformat_minor": 5
}
